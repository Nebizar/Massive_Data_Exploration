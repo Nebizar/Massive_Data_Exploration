{
 "cells": [
  {
   "cell_type": "code",
   "execution_count": 1,
   "metadata": {
    "colab": {
     "base_uri": "https://localhost:8080/"
    },
    "id": "B-Or4I78h0HH",
    "outputId": "989f1669-81c7-4193-b511-de8682fcb4db"
   },
   "outputs": [
    {
     "name": "stdout",
     "output_type": "stream",
     "text": [
      "[nltk_data] Downloading package punkt to /root/nltk_data...\n",
      "[nltk_data]   Unzipping tokenizers/punkt.zip.\n",
      "[nltk_data] Downloading package wordnet to /root/nltk_data...\n",
      "[nltk_data]   Unzipping corpora/wordnet.zip.\n"
     ]
    }
   ],
   "source": [
    "import pandas as pd \n",
    "import numpy as np \n",
    "import string\n",
    "import nltk \n",
    "import re\n",
    "import joblib\n",
    "nltk.download('punkt')\n",
    "nltk.download('wordnet')\n",
    "from nltk.stem import PorterStemmer, WordNetLemmatizer\n",
    "from nltk.tokenize import word_tokenize, sent_tokenize\n",
    "\n",
    "from spacy.lang.en.stop_words import STOP_WORDS\n",
    "from sklearn.pipeline import Pipeline\n",
    "from sklearn.feature_extraction.text import CountVectorizer, TfidfVectorizer\n",
    "from sklearn.preprocessing import FunctionTransformer\n",
    "from sklearn.model_selection import train_test_split,GridSearchCV\n",
    "\n",
    "from sklearn.linear_model import LogisticRegression\n",
    "from sklearn.svm import SVC\n",
    "from sklearn.model_selection import cross_validate, GridSearchCV\n",
    "from sklearn.metrics import f1_score, confusion_matrix, accuracy_score, precision_score, recall_score, classification_report, log_loss, plot_confusion_matrix\n",
    "\n",
    "import matplotlib.pyplot as plt"
   ]
  },
  {
   "cell_type": "code",
   "execution_count": null,
   "metadata": {},
   "outputs": [],
   "source": [
    "vect_path = 'models/tfvectorizer.sav'\n",
    "clf_path = 'models/logistic_regression_tf.sav'\n",
    "data_path = \"data/test.csv\""
   ]
  },
  {
   "cell_type": "code",
   "execution_count": 2,
   "metadata": {
    "id": "zeJ4P-NSh0HK"
   },
   "outputs": [],
   "source": [
    "test = pd.read_csv(data_path)"
   ]
  },
  {
   "cell_type": "code",
   "execution_count": 3,
   "metadata": {
    "id": "GhjDlj1fh0HK"
   },
   "outputs": [],
   "source": [
    "test = test.dropna(axis=0, how=\"any\")"
   ]
  },
  {
   "cell_type": "code",
   "execution_count": 4,
   "metadata": {
    "id": "YmBpqYdJh0HL"
   },
   "outputs": [],
   "source": [
    "test = test[['reviewText', 'summary', 'score']]"
   ]
  },
  {
   "cell_type": "code",
   "execution_count": 5,
   "metadata": {
    "id": "2uM1EsR0h0HL"
   },
   "outputs": [],
   "source": [
    "def convert_and_prepare_data(df : pd.DataFrame) -> pd.DataFrame:\n",
    "    newdf = df.copy()\n",
    "    # prepare text, delete punctuation and stop words\n",
    "    newdf['tokenized'] = newdf.reviewText.apply(lambda x : word_tokenize(x))\n",
    "    newdf['tokenized'] = newdf['tokenized'].apply(lambda x : np.array([word for word in x if word.isalnum()]) )\n",
    "    newdf['tokenized'] = newdf['tokenized'].apply(lambda x : np.array([word for word in x if word not in STOP_WORDS]) )\n",
    "    # lemmatizing and stemming\n",
    "    ps = PorterStemmer()\n",
    "    wnl = WordNetLemmatizer()\n",
    "    newdf['tokenized'] = newdf['tokenized'].apply(lambda x : np.array([wnl.lemmatize(ps.stem(i.lower())) for i in x]) )\n",
    "    #count final words number\n",
    "    newdf['count_words'] = newdf['tokenized'].apply(lambda x : len(x))\n",
    "    # delete recurring words - to check\n",
    "    newdf['unique_words'] = newdf['tokenized'].apply(lambda x : np.unique(x))\n",
    "    # create text from words \n",
    "    newdf['new_text'] = newdf['unique_words'].apply(lambda x : ' '.join(x))\n",
    "    return newdf"
   ]
  },
  {
   "cell_type": "code",
   "execution_count": 6,
   "metadata": {
    "id": "V2KD4MpCh0HL"
   },
   "outputs": [],
   "source": [
    "testDf = convert_and_prepare_data(test)"
   ]
  },
  {
   "cell_type": "code",
   "execution_count": 14,
   "metadata": {
    "id": "1uBptfCMh0HM"
   },
   "outputs": [],
   "source": []
  },
  {
   "cell_type": "code",
   "execution_count": 8,
   "metadata": {
    "id": "tIX1Oesrh0HM"
   },
   "outputs": [],
   "source": [
    "vect = joblib.load(vect_path)"
   ]
  },
  {
   "cell_type": "code",
   "execution_count": 9,
   "metadata": {
    "id": "Ge1i-RA2h0HM"
   },
   "outputs": [],
   "source": [
    "testTF = vect.transform(testDf['new_text'])"
   ]
  },
  {
   "cell_type": "code",
   "execution_count": 12,
   "metadata": {
    "id": "cRPhLlEBh0HN"
   },
   "outputs": [],
   "source": [
    "def test_model(filename, X_train, y_train):\n",
    "    \n",
    "    clf = joblib.load(filename)\n",
    "    y_train_pred = clf.predict(X_train)\n",
    "    class_report = classification_report(y_train,y_train_pred)\n",
    "    \n",
    "    cm = confusion_matrix(y_train,y_train_pred)\n",
    "    fig = plt.figure()\n",
    "    plot_confusion_matrix(clf, X_train, y_train, values_format = '.5g')\n",
    "    plt.savefig(f\"metrics/{filename[12:-4]}.png\")\n",
    "\n",
    "    acc = accuracy_score(y_train,y_train_pred)\n",
    "    f1 = f1_score(y_train,y_train_pred, average='macro')\n",
    "    #loss = log_loss(y_train, y_train_pred)\n",
    "  \n",
    "    \n",
    "    print(\"Confusion matrix\")\n",
    "    print(cm)\n",
    "    print(\"_\"*50)\n",
    "    print(\"REPORT: \")\n",
    "    print(class_report)\n",
    "    print(\"Accuracy score: {}%\".format(round(acc,2)*100))\n",
    "    print(\"F1 score: {}\".format(f1))\n",
    "    #print(\"Cross entropy loss: {}\".format(loss))\n",
    "\n",
    "    return acc, f1"
   ]
  },
  {
   "cell_type": "code",
   "execution_count": 16,
   "metadata": {
    "colab": {
     "base_uri": "https://localhost:8080/",
     "height": 687
    },
    "id": "shsqQArVh0HN",
    "outputId": "9b44b9ad-e8d5-429d-c2a4-047b315cf948"
   },
   "outputs": [
    {
     "name": "stdout",
     "output_type": "stream",
     "text": [
      "Confusion matrix\n",
      "[[10232   533  1009   789  2455]\n",
      " [ 2588  1252  1510  1079  2005]\n",
      " [ 1787   585  4843  3489  5310]\n",
      " [  948   199  1700  9700 16663]\n",
      " [ 1314   157   962  4845 62987]]\n",
      "__________________________________________________\n",
      "REPORT: \n",
      "              precision    recall  f1-score   support\n",
      "\n",
      "         1.0       0.61      0.68      0.64     15018\n",
      "         2.0       0.46      0.15      0.22      8434\n",
      "         3.0       0.48      0.30      0.37     16014\n",
      "         4.0       0.49      0.33      0.40     29210\n",
      "         5.0       0.70      0.90      0.79     70265\n",
      "\n",
      "    accuracy                           0.64    138941\n",
      "   macro avg       0.55      0.47      0.48    138941\n",
      "weighted avg       0.61      0.64      0.61    138941\n",
      "\n",
      "Accuracy score: 64.0%\n",
      "F1 score: 0.48440797540069036\n"
     ]
    },
    {
     "data": {
      "text/plain": [
       "(0.6406604242088368, 0.48440797540069036)"
      ]
     },
     "execution_count": 16,
     "metadata": {
      "tags": []
     },
     "output_type": "execute_result"
    },
    {
     "data": {
      "text/plain": [
       "<Figure size 432x288 with 0 Axes>"
      ]
     },
     "metadata": {
      "tags": []
     },
     "output_type": "display_data"
    },
    {
     "data": {
      "image/png": "[encoded data removed]",
      "text/plain": [
       "<Figure size 432x288 with 2 Axes>"
      ]
     },
     "metadata": {
      "needs_background": "light",
      "tags": []
     },
     "output_type": "display_data"
    }
   ],
   "source": [
    "test_model(clf_path, testTF, testDf['score'])"
   ]
  },
  {
   "cell_type": "code",
   "execution_count": null,
   "metadata": {
    "id": "kjXjPX9Lh0HN"
   },
   "outputs": [],
   "source": []
  }
 ],
 "metadata": {
  "colab": {
   "name": "TestReview.ipynb",
   "provenance": []
  },
  "kernelspec": {
   "display_name": "Python 3",
   "language": "python",
   "name": "python3"
  },
  "language_info": {
   "codemirror_mode": {
    "name": "ipython",
    "version": 3
   },
   "file_extension": ".py",
   "mimetype": "text/x-python",
   "name": "python",
   "nbconvert_exporter": "python",
   "pygments_lexer": "ipython3",
   "version": "3.7.4"
  }
 },
 "nbformat": 4,
 "nbformat_minor": 1
}
