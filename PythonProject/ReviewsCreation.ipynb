{
 "cells": [
  {
   "cell_type": "code",
   "execution_count": 1,
   "metadata": {
    "colab": {
     "base_uri": "https://localhost:8080/"
    },
    "id": "RbD0grEMyryX",
    "outputId": "34ef77ca-51e9-4f0e-f36f-3756155f4322"
   },
   "outputs": [
    {
     "name": "stderr",
     "output_type": "stream",
     "text": [
      "[nltk_data] Downloading package punkt to\n",
      "[nltk_data]     C:\\Users\\apasi\\AppData\\Roaming\\nltk_data...\n",
      "[nltk_data]   Package punkt is already up-to-date!\n",
      "[nltk_data] Downloading package wordnet to\n",
      "[nltk_data]     C:\\Users\\apasi\\AppData\\Roaming\\nltk_data...\n",
      "[nltk_data]   Package wordnet is already up-to-date!\n"
     ]
    }
   ],
   "source": [
    "import pandas as pd \n",
    "import numpy as np \n",
    "import string\n",
    "import nltk \n",
    "import re\n",
    "import joblib\n",
    "nltk.download('punkt')\n",
    "nltk.download('wordnet')\n",
    "from nltk.stem import PorterStemmer, WordNetLemmatizer\n",
    "from nltk.tokenize import word_tokenize, sent_tokenize\n",
    "\n",
    "from spacy.lang.en.stop_words import STOP_WORDS\n",
    "from sklearn.pipeline import Pipeline\n",
    "from sklearn.feature_extraction.text import CountVectorizer, TfidfVectorizer\n",
    "from sklearn.preprocessing import FunctionTransformer\n",
    "from sklearn.model_selection import train_test_split,GridSearchCV\n"
   ]
  },
  {
   "cell_type": "code",
   "execution_count": null,
   "metadata": {
    "id": "uD9r3EFdyryY"
   },
   "outputs": [],
   "source": [
    "from sklearn.linear_model import LogisticRegression\n",
    "from sklearn.svm import SVC\n",
    "from sklearn.neighbors import KNeighborsClassifier\n",
    "from sklearn.tree import DecisionTreeClassifier\n",
    "from sklearn.ensemble import RandomForestClassifier\n",
    "from sklearn.model_selection import cross_validate, GridSearchCV\n",
    "from sklearn.metrics import f1_score, confusion_matrix, accuracy_score, precision_score, recall_score, classification_report, log_loss, plot_confusion_matrix\n",
    "\n",
    "import matplotlib.pyplot as plt"
   ]
  },
  {
   "cell_type": "code",
   "execution_count": null,
   "metadata": {
    "id": "nKkA-_IpyryZ"
   },
   "outputs": [],
   "source": [
    "dataset = pd.read_csv(\"drive/MyDrive/reviews_train.csv\")"
   ]
  },
  {
   "cell_type": "code",
   "execution_count": null,
   "metadata": {
    "colab": {
     "base_uri": "https://localhost:8080/"
    },
    "id": "YWxhwPc3yryZ",
    "outputId": "232dfee5-1444-4cc4-db36-477fb2f2afa3"
   },
   "outputs": [
    {
     "name": "stdout",
     "output_type": "stream",
     "text": [
      "DATASET\n",
      "Shape of training data: (555791, 9)\n"
     ]
    }
   ],
   "source": [
    "print(\"DATASET\")\n",
    "print(f'Shape of training data: {dataset.shape}')"
   ]
  },
  {
   "cell_type": "code",
   "execution_count": null,
   "metadata": {
    "colab": {
     "base_uri": "https://localhost:8080/",
     "height": 204
    },
    "id": "6OHEuzN7yrya",
    "outputId": "0cf1300c-1d8c-491a-d38d-4dab40b78bc2"
   },
   "outputs": [
    {
     "data": {
      "text/html": [
       "<div>\n",
       "<style scoped>\n",
       "    .dataframe tbody tr th:only-of-type {\n",
       "        vertical-align: middle;\n",
       "    }\n",
       "\n",
       "    .dataframe tbody tr th {\n",
       "        vertical-align: top;\n",
       "    }\n",
       "\n",
       "    .dataframe thead th {\n",
       "        text-align: right;\n",
       "    }\n",
       "</style>\n",
       "<table border=\"1\" class=\"dataframe\">\n",
       "  <thead>\n",
       "    <tr style=\"text-align: right;\">\n",
       "      <th></th>\n",
       "      <th>reviewerID</th>\n",
       "      <th>asin</th>\n",
       "      <th>reviewerName</th>\n",
       "      <th>helpful</th>\n",
       "      <th>reviewText</th>\n",
       "      <th>summary</th>\n",
       "      <th>unixReviewTime</th>\n",
       "      <th>reviewTime</th>\n",
       "      <th>score</th>\n",
       "    </tr>\n",
       "  </thead>\n",
       "  <tbody>\n",
       "    <tr>\n",
       "      <th>0</th>\n",
       "      <td>A35C43YE9HU9CN</td>\n",
       "      <td>B0064X7B4A</td>\n",
       "      <td>Joan Miller</td>\n",
       "      <td>[0, 0]</td>\n",
       "      <td>I have decided not to play this game.  I can't...</td>\n",
       "      <td>Friends</td>\n",
       "      <td>1396396800</td>\n",
       "      <td>04 2, 2014</td>\n",
       "      <td>1.0</td>\n",
       "    </tr>\n",
       "    <tr>\n",
       "      <th>1</th>\n",
       "      <td>AHFS8CGWWXB5B</td>\n",
       "      <td>B00H1P4V3E</td>\n",
       "      <td>WASH ST. GAMER</td>\n",
       "      <td>[3, 4]</td>\n",
       "      <td>The Amazon Appstore free app of the day for Ju...</td>\n",
       "      <td>Amazon Makes This \"Longest Spring Ever\" for Fi...</td>\n",
       "      <td>1402272000</td>\n",
       "      <td>06 9, 2014</td>\n",
       "      <td>2.0</td>\n",
       "    </tr>\n",
       "    <tr>\n",
       "      <th>2</th>\n",
       "      <td>A3EW8OTQ90NVHM</td>\n",
       "      <td>B00CLVW82O</td>\n",
       "      <td>Kindle Customer</td>\n",
       "      <td>[0, 4]</td>\n",
       "      <td>this game was so mush fun I wish I could play ...</td>\n",
       "      <td>best</td>\n",
       "      <td>1368921600</td>\n",
       "      <td>05 19, 2013</td>\n",
       "      <td>5.0</td>\n",
       "    </tr>\n",
       "    <tr>\n",
       "      <th>3</th>\n",
       "      <td>AJ3GHFJY1IUTD</td>\n",
       "      <td>B007T9WVKM</td>\n",
       "      <td>BrawlMaster4</td>\n",
       "      <td>[0, 2]</td>\n",
       "      <td>Its pretty fun and very good looking,  but you...</td>\n",
       "      <td>Fun Game</td>\n",
       "      <td>1350172800</td>\n",
       "      <td>10 14, 2012</td>\n",
       "      <td>5.0</td>\n",
       "    </tr>\n",
       "    <tr>\n",
       "      <th>4</th>\n",
       "      <td>A3JJGBS4EL603S</td>\n",
       "      <td>B00J206J5E</td>\n",
       "      <td>K. Wilson \"thesupe\"</td>\n",
       "      <td>[0, 0]</td>\n",
       "      <td>good graphics; immersive storyline; hard to st...</td>\n",
       "      <td>great game!</td>\n",
       "      <td>1396915200</td>\n",
       "      <td>04 8, 2014</td>\n",
       "      <td>5.0</td>\n",
       "    </tr>\n",
       "  </tbody>\n",
       "</table>\n",
       "</div>"
      ],
      "text/plain": [
       "       reviewerID        asin  ...   reviewTime score\n",
       "0  A35C43YE9HU9CN  B0064X7B4A  ...   04 2, 2014   1.0\n",
       "1   AHFS8CGWWXB5B  B00H1P4V3E  ...   06 9, 2014   2.0\n",
       "2  A3EW8OTQ90NVHM  B00CLVW82O  ...  05 19, 2013   5.0\n",
       "3   AJ3GHFJY1IUTD  B007T9WVKM  ...  10 14, 2012   5.0\n",
       "4  A3JJGBS4EL603S  B00J206J5E  ...   04 8, 2014   5.0\n",
       "\n",
       "[5 rows x 9 columns]"
      ]
     },
     "execution_count": 6,
     "metadata": {
      "tags": []
     },
     "output_type": "execute_result"
    }
   ],
   "source": [
    "dataset.head()"
   ]
  },
  {
   "cell_type": "code",
   "execution_count": null,
   "metadata": {
    "colab": {
     "base_uri": "https://localhost:8080/"
    },
    "id": "8ME98UG1yrya",
    "outputId": "2d33d084-4d7c-4afd-ed0f-83d8d11df17b"
   },
   "outputs": [
    {
     "name": "stdout",
     "output_type": "stream",
     "text": [
      "<class 'pandas.core.frame.DataFrame'>\n",
      "RangeIndex: 555791 entries, 0 to 555790\n",
      "Data columns (total 9 columns):\n",
      " #   Column          Non-Null Count   Dtype  \n",
      "---  ------          --------------   -----  \n",
      " 0   reviewerID      555791 non-null  object \n",
      " 1   asin            555791 non-null  object \n",
      " 2   reviewerName    555777 non-null  object \n",
      " 3   helpful         555791 non-null  object \n",
      " 4   reviewText      555783 non-null  object \n",
      " 5   summary         555767 non-null  object \n",
      " 6   unixReviewTime  555791 non-null  int64  \n",
      " 7   reviewTime      555791 non-null  object \n",
      " 8   score           555791 non-null  float64\n",
      "dtypes: float64(1), int64(1), object(7)\n",
      "memory usage: 38.2+ MB\n"
     ]
    }
   ],
   "source": [
    "dataset.info()\n"
   ]
  },
  {
   "cell_type": "code",
   "execution_count": null,
   "metadata": {
    "id": "Er_OGey3yryb"
   },
   "outputs": [],
   "source": [
    "review_missing = dataset[['reviewText', 'summary']].isnull().sum()"
   ]
  },
  {
   "cell_type": "code",
   "execution_count": null,
   "metadata": {
    "colab": {
     "base_uri": "https://localhost:8080/"
    },
    "id": "_MOSJxevyryb",
    "outputId": "a9ff5f71-2670-4af4-af5e-af20832bb1e0"
   },
   "outputs": [
    {
     "data": {
      "text/plain": [
       "reviewText     8\n",
       "summary       24\n",
       "dtype: int64"
      ]
     },
     "execution_count": 9,
     "metadata": {
      "tags": []
     },
     "output_type": "execute_result"
    }
   ],
   "source": [
    "review_missing"
   ]
  },
  {
   "cell_type": "code",
   "execution_count": null,
   "metadata": {
    "id": "AzGGNXl4yryb"
   },
   "outputs": [],
   "source": [
    "dataset = dataset.dropna(axis=0, how=\"any\")"
   ]
  },
  {
   "cell_type": "code",
   "execution_count": null,
   "metadata": {
    "colab": {
     "base_uri": "https://localhost:8080/"
    },
    "id": "O3tSqUvIyryc",
    "outputId": "1fff8a1b-397a-404b-cdf9-e50a4cf764a1"
   },
   "outputs": [
    {
     "name": "stdout",
     "output_type": "stream",
     "text": [
      "<class 'pandas.core.frame.DataFrame'>\n",
      "Int64Index: 555745 entries, 0 to 555790\n",
      "Data columns (total 9 columns):\n",
      " #   Column          Non-Null Count   Dtype  \n",
      "---  ------          --------------   -----  \n",
      " 0   reviewerID      555745 non-null  object \n",
      " 1   asin            555745 non-null  object \n",
      " 2   reviewerName    555745 non-null  object \n",
      " 3   helpful         555745 non-null  object \n",
      " 4   reviewText      555745 non-null  object \n",
      " 5   summary         555745 non-null  object \n",
      " 6   unixReviewTime  555745 non-null  int64  \n",
      " 7   reviewTime      555745 non-null  object \n",
      " 8   score           555745 non-null  float64\n",
      "dtypes: float64(1), int64(1), object(7)\n",
      "memory usage: 42.4+ MB\n"
     ]
    }
   ],
   "source": [
    "dataset.info()"
   ]
  },
  {
   "cell_type": "code",
   "execution_count": null,
   "metadata": {
    "id": "exPCcArFyryc"
   },
   "outputs": [],
   "source": [
    "dataset = dataset[['reviewText', 'summary', 'score']]"
   ]
  },
  {
   "cell_type": "code",
   "execution_count": null,
   "metadata": {
    "id": "P6BX1dtbyryc"
   },
   "outputs": [],
   "source": [
    "train, test = train_test_split(dataset, test_size=0.25)"
   ]
  },
  {
   "cell_type": "code",
   "execution_count": null,
   "metadata": {
    "colab": {
     "base_uri": "https://localhost:8080/"
    },
    "id": "Id8Y_f-uyryc",
    "outputId": "2bd06321-01ad-44fc-ef7f-d7425cab57e6"
   },
   "outputs": [
    {
     "name": "stdout",
     "output_type": "stream",
     "text": [
      "<class 'pandas.core.frame.DataFrame'>\n",
      "Int64Index: 416808 entries, 385374 to 388259\n",
      "Data columns (total 3 columns):\n",
      " #   Column      Non-Null Count   Dtype  \n",
      "---  ------      --------------   -----  \n",
      " 0   reviewText  416808 non-null  object \n",
      " 1   summary     416808 non-null  object \n",
      " 2   score       416808 non-null  float64\n",
      "dtypes: float64(1), object(2)\n",
      "memory usage: 12.7+ MB\n"
     ]
    }
   ],
   "source": [
    "train.info()"
   ]
  },
  {
   "cell_type": "code",
   "execution_count": null,
   "metadata": {
    "colab": {
     "base_uri": "https://localhost:8080/"
    },
    "id": "teKdps2jyryd",
    "outputId": "e7db511a-6313-4982-8976-0bfe29a79726"
   },
   "outputs": [
    {
     "name": "stdout",
     "output_type": "stream",
     "text": [
      "<class 'pandas.core.frame.DataFrame'>\n",
      "Int64Index: 138937 entries, 88133 to 98659\n",
      "Data columns (total 3 columns):\n",
      " #   Column      Non-Null Count   Dtype  \n",
      "---  ------      --------------   -----  \n",
      " 0   reviewText  138937 non-null  object \n",
      " 1   summary     138937 non-null  object \n",
      " 2   score       138937 non-null  float64\n",
      "dtypes: float64(1), object(2)\n",
      "memory usage: 4.2+ MB\n"
     ]
    }
   ],
   "source": [
    "test.info()"
   ]
  },
  {
   "cell_type": "code",
   "execution_count": null,
   "metadata": {
    "id": "2bFAogaAyryd"
   },
   "outputs": [],
   "source": [
    "def convert_and_prepare_data(df : pd.DataFrame) -> pd.DataFrame:\n",
    "    newdf = df.copy()\n",
    "    # prepare text, delete punctuation and stop words\n",
    "    newdf['tokenized'] = newdf.reviewText.apply(lambda x : word_tokenize(x))\n",
    "    newdf['tokenized'] = newdf['tokenized'].apply(lambda x : np.array([word for word in x if word.isalnum()]) )\n",
    "    newdf['tokenized'] = newdf['tokenized'].apply(lambda x : np.array([word for word in x if word not in STOP_WORDS]) )\n",
    "    # lemmatizing and stemming\n",
    "    ps = PorterStemmer()\n",
    "    wnl = WordNetLemmatizer()\n",
    "    newdf['tokenized'] = newdf['tokenized'].apply(lambda x : np.array([wnl.lemmatize(ps.stem(i.lower())) for i in x]) )\n",
    "    #count final words number\n",
    "    newdf['count_words'] = newdf['tokenized'].apply(lambda x : len(x))\n",
    "    # delete recurring words - to check\n",
    "    newdf['unique_words'] = newdf['tokenized'].apply(lambda x : np.unique(x))\n",
    "    # create text from words \n",
    "    newdf['new_text'] = newdf['unique_words'].apply(lambda x : ' '.join(x))\n",
    "    return newdf"
   ]
  },
  {
   "cell_type": "code",
   "execution_count": null,
   "metadata": {
    "id": "w6t-zr5zyryd"
   },
   "outputs": [],
   "source": [
    "trainDf = convert_and_prepare_data(train)"
   ]
  },
  {
   "cell_type": "code",
   "execution_count": null,
   "metadata": {
    "colab": {
     "base_uri": "https://localhost:8080/"
    },
    "id": "cM5_0-s1yryd",
    "outputId": "9e0cb128-18ce-4d05-8e74-0823d650ab2c"
   },
   "outputs": [
    {
     "name": "stdout",
     "output_type": "stream",
     "text": [
      "<class 'pandas.core.frame.DataFrame'>\n",
      "Int64Index: 416808 entries, 385374 to 388259\n",
      "Data columns (total 7 columns):\n",
      " #   Column        Non-Null Count   Dtype  \n",
      "---  ------        --------------   -----  \n",
      " 0   reviewText    416808 non-null  object \n",
      " 1   summary       416808 non-null  object \n",
      " 2   score         416808 non-null  float64\n",
      " 3   tokenized     416808 non-null  object \n",
      " 4   count_words   416808 non-null  int64  \n",
      " 5   unique_words  416808 non-null  object \n",
      " 6   new_text      416808 non-null  object \n",
      "dtypes: float64(1), int64(1), object(5)\n",
      "memory usage: 25.4+ MB\n"
     ]
    }
   ],
   "source": [
    "trainDf.info()"
   ]
  },
  {
   "cell_type": "code",
   "execution_count": null,
   "metadata": {
    "id": "P1uQd1zyyrye"
   },
   "outputs": [],
   "source": [
    "target = trainDf.score.value_counts()"
   ]
  },
  {
   "cell_type": "code",
   "execution_count": null,
   "metadata": {
    "colab": {
     "base_uri": "https://localhost:8080/"
    },
    "id": "Gol4lroLyrye",
    "outputId": "fcc2571f-ba43-4a9a-901f-9a8bb141cfdb"
   },
   "outputs": [
    {
     "data": {
      "text/plain": [
       "5.0    211470\n",
       "4.0     87174\n",
       "3.0     47948\n",
       "1.0     45000\n",
       "2.0     25216\n",
       "Name: score, dtype: int64"
      ]
     },
     "execution_count": 20,
     "metadata": {
      "tags": []
     },
     "output_type": "execute_result"
    }
   ],
   "source": [
    "target"
   ]
  },
  {
   "cell_type": "code",
   "execution_count": null,
   "metadata": {
    "id": "4LYPmpSgyrye"
   },
   "outputs": [],
   "source": [
    "trainDf.to_csv('train.csv')"
   ]
  },
  {
   "cell_type": "code",
   "execution_count": null,
   "metadata": {
    "id": "UVB6PXnEyrye"
   },
   "outputs": [],
   "source": [
    "countVectorizer = CountVectorizer()\n",
    "trainCV = countVectorizer.fit_transform(trainDf['new_text'])\n",
    "\n",
    "tfVectorizer = TfidfVectorizer(min_df = 2, max_df = 0.5, ngram_range= (1,2))\n",
    "trainTF = tfVectorizer.fit_transform(trainDf['new_text'])"
   ]
  },
  {
   "cell_type": "code",
   "execution_count": null,
   "metadata": {
    "colab": {
     "base_uri": "https://localhost:8080/"
    },
    "id": "GA3_K68i6vWc",
    "outputId": "6f818d49-6d0f-49a0-e6c2-9362613d76a1"
   },
   "outputs": [
    {
     "data": {
      "text/plain": [
       "(416808, 414210)"
      ]
     },
     "execution_count": 69,
     "metadata": {
      "tags": []
     },
     "output_type": "execute_result"
    }
   ],
   "source": [
    "trainTF.shape"
   ]
  },
  {
   "cell_type": "code",
   "execution_count": null,
   "metadata": {
    "id": "JDGZAcKSyryf"
   },
   "outputs": [],
   "source": [
    "def get_best_model(model, parameters, X_train, y_train):\n",
    "    gs = GridSearchCV(\n",
    "        model,\n",
    "        parameters,\n",
    "        cv = 4,  #cross-validation splitting\n",
    "        n_jobs = -1, #using all processors, \n",
    "        return_train_score = True\n",
    "    )\n",
    "    best_model = gs.fit(X_train, y_train)\n",
    "    return best_model"
   ]
  },
  {
   "cell_type": "code",
   "execution_count": null,
   "metadata": {
    "id": "UsCv8FuJyryf"
   },
   "outputs": [],
   "source": [
    "models={'Logistic Regression': LogisticRegression(),\n",
    "        'Decision Tree': DecisionTreeClassifier()}\n",
    "        #'K-NN': KNeighborsClassifier(),\n",
    "        #'Random Forest': RandomForestClassifier()}\n",
    "parameters={\n",
    "      'Logistic Regression':{\n",
    "                              \"C\":np.logspace(-3,3,7), \n",
    "                              \"penalty\":[\"l1\",\"l2\"]},\n",
    "            \n",
    "\n",
    "        'Decision Tree':{\n",
    "             'criterion' :['gini', 'entropy'], \n",
    "             'splitter':['best', 'random'], \n",
    "              'max_depth' : [4,5,6,7,8],\n",
    "              'max_features': ['auto', 'sqrt', 'log2']}\n",
    "\n",
    "      #   'K-NN':  { \n",
    "      #         'n_neighbors': [3,5,8,10,12], \n",
    "      #         'weights': ['uniform', 'distance'],\n",
    "      #         'metric': ['euclidean', 'manhattan']},\n",
    "            \n",
    "        # 'Random Forest': { \n",
    "        #                 'n_estimators': [100, 200, 350, 500],\n",
    "        #                 'max_features': ['auto', 'sqrt', 'log2'],\n",
    "        #                 'max_depth' : [4,5,6,7,8],\n",
    "        #                 'criterion' :['gini', 'entropy']}\n",
    "}"
   ]
  },
  {
   "cell_type": "code",
   "execution_count": null,
   "metadata": {
    "id": "86V3-mH8yryf"
   },
   "outputs": [],
   "source": [
    "def get_best_models(models,parameters,  X_trainCV, X_trainTF, y_train):\n",
    "    best_models_cv = {}\n",
    "    best_models_tf = {}\n",
    "    for name, model in models.items():\n",
    "        print('##### ' + name + ' #####')\n",
    "        \n",
    "        best_cv = get_best_model(model,parameters[name], X_trainCV,y_train)\n",
    "        filename = f'drive/MyDrive/models2/{name}_cv.sav'\n",
    "        joblib.dump(best_cv, filename)\n",
    "        best_models_cv[name] = best_cv\n",
    "        \n",
    "        best_tf = get_best_model(model,parameters[name],X_trainTF ,y_train)\n",
    "        filename = f'drive/MyDrive/models2/{name}_tf.sav'\n",
    "        joblib.dump(best_tf, filename)\n",
    "        best_models_tf[name] = best_tf\n",
    "\n",
    "    return best_models_cv, best_models_tf"
   ]
  },
  {
   "cell_type": "code",
   "execution_count": null,
   "metadata": {
    "id": "uLsPynpTyryf"
   },
   "outputs": [],
   "source": [
    "def save_models(models):\n",
    "    for name, model in models.items():\n",
    "        filename = f'models/{name}_tf.sav'\n",
    "        joblib.dump(model, filename)"
   ]
  },
  {
   "cell_type": "code",
   "execution_count": null,
   "metadata": {
    "colab": {
     "base_uri": "https://localhost:8080/"
    },
    "id": "g1lIAvHAyryg",
    "outputId": "57a92f5e-45c4-42de-c037-b285ad448771"
   },
   "outputs": [
    {
     "name": "stdout",
     "output_type": "stream",
     "text": [
      "##### Logistic Regression #####\n"
     ]
    },
    {
     "name": "stderr",
     "output_type": "stream",
     "text": [
      "/usr/local/lib/python3.6/dist-packages/sklearn/linear_model/_logistic.py:940: ConvergenceWarning: lbfgs failed to converge (status=1):\n",
      "STOP: TOTAL NO. of ITERATIONS REACHED LIMIT.\n",
      "\n",
      "Increase the number of iterations (max_iter) or scale the data as shown in:\n",
      "    https://scikit-learn.org/stable/modules/preprocessing.html\n",
      "Please also refer to the documentation for alternative solver options:\n",
      "    https://scikit-learn.org/stable/modules/linear_model.html#logistic-regression\n",
      "  extra_warning_msg=_LOGISTIC_SOLVER_CONVERGENCE_MSG)\n",
      "/usr/local/lib/python3.6/dist-packages/joblib/externals/loky/process_executor.py:691: UserWarning: A worker stopped while some jobs were given to the executor. This can be caused by a too short worker timeout or by a memory leak.\n",
      "  \"timeout or by a memory leak.\", UserWarning\n",
      "/usr/local/lib/python3.6/dist-packages/sklearn/linear_model/_logistic.py:940: ConvergenceWarning: lbfgs failed to converge (status=1):\n",
      "STOP: TOTAL NO. of ITERATIONS REACHED LIMIT.\n",
      "\n",
      "Increase the number of iterations (max_iter) or scale the data as shown in:\n",
      "    https://scikit-learn.org/stable/modules/preprocessing.html\n",
      "Please also refer to the documentation for alternative solver options:\n",
      "    https://scikit-learn.org/stable/modules/linear_model.html#logistic-regression\n",
      "  extra_warning_msg=_LOGISTIC_SOLVER_CONVERGENCE_MSG)\n"
     ]
    },
    {
     "name": "stdout",
     "output_type": "stream",
     "text": [
      "##### Decision Tree #####\n"
     ]
    }
   ],
   "source": [
    "best_models_cv, best_models_tf = get_best_models(models,parameters, trainCV, trainTF, trainDf.score)"
   ]
  },
  {
   "cell_type": "code",
   "execution_count": null,
   "metadata": {
    "id": "KJmFKdbLyryg"
   },
   "outputs": [],
   "source": [
    "def save_models2(models):\n",
    "    for name, model in models.items():\n",
    "        filename = f'models/{name}_cv.sav'\n",
    "        joblib.dump(model, filename)\n",
    "\n",
    "save_models(best_models_tf)\n",
    "save_models2(best_models_cv)"
   ]
  },
  {
   "cell_type": "code",
   "execution_count": null,
   "metadata": {
    "colab": {
     "base_uri": "https://localhost:8080/"
    },
    "id": "N10GzBgyIY2m",
    "outputId": "063137fd-e966-477a-e308-892b7b0d9b96"
   },
   "outputs": [
    {
     "name": "stderr",
     "output_type": "stream",
     "text": [
      "/usr/local/lib/python3.6/dist-packages/sklearn/linear_model/_logistic.py:940: ConvergenceWarning: lbfgs failed to converge (status=1):\n",
      "STOP: TOTAL NO. of ITERATIONS REACHED LIMIT.\n",
      "\n",
      "Increase the number of iterations (max_iter) or scale the data as shown in:\n",
      "    https://scikit-learn.org/stable/modules/preprocessing.html\n",
      "Please also refer to the documentation for alternative solver options:\n",
      "    https://scikit-learn.org/stable/modules/linear_model.html#logistic-regression\n",
      "  extra_warning_msg=_LOGISTIC_SOLVER_CONVERGENCE_MSG)\n"
     ]
    },
    {
     "data": {
      "text/plain": [
       "['best_models/logistic_regression_CV.sav']"
      ]
     },
     "execution_count": 43,
     "metadata": {
      "tags": []
     },
     "output_type": "execute_result"
    }
   ],
   "source": [
    "lr = LogisticRegression(C=best_models_cv['Logistic Regression'].best_params_['C'], penalty=best_models_cv['Logistic Regression'].best_params_['penalty'])\n",
    "lr_fited=lr.fit(trainCV, trainDf.score)\n",
    "joblib.dump(lr_fited, 'best_models/logistic_regression_CV.sav')"
   ]
  },
  {
   "cell_type": "code",
   "execution_count": null,
   "metadata": {
    "colab": {
     "base_uri": "https://localhost:8080/"
    },
    "id": "Kd8OFgTrJiFr",
    "outputId": "602320af-45ad-43cc-e4f3-b96240a99b64"
   },
   "outputs": [
    {
     "data": {
      "text/plain": [
       "['best_models/decision_tree_cv.sav']"
      ]
     },
     "execution_count": 45,
     "metadata": {
      "tags": []
     },
     "output_type": "execute_result"
    }
   ],
   "source": [
    "dtree = DecisionTreeClassifier(criterion=best_models_cv['Decision Tree'].best_params_['criterion'], splitter=best_models_cv['Decision Tree'].best_params_['splitter'], max_depth = best_models_cv['Decision Tree'].best_params_['max_depth'], max_features=best_models_cv['Decision Tree'].best_params_['max_features']) \n",
    "dtree_fitted=dtree.fit(trainCV, trainDf.score)\n",
    "joblib.dump(dtree_fitted, 'best_models/decision_tree_cv.sav')"
   ]
  },
  {
   "cell_type": "code",
   "execution_count": null,
   "metadata": {
    "id": "XrTxeTQrG4zK"
   },
   "outputs": [],
   "source": [
    "def test_model(filename, X_train, y_train):\n",
    "    \n",
    "    clf = joblib.load(filename)\n",
    "    y_train_pred = clf.predict(X_train)\n",
    "    class_report = classification_report(y_train,y_train_pred)\n",
    "    \n",
    "    cm = confusion_matrix(y_train,y_train_pred)\n",
    "    fig = plt.figure()\n",
    "    plot_confusion_matrix(clf, X_train, y_train, values_format = '.5g')\n",
    "    plt.savefig(f\"metrics/{filename[12:-4]}.png\")\n",
    "\n",
    "    acc = accuracy_score(y_train,y_train_pred)\n",
    "    f1 = f1_score(y_train,y_train_pred, average='macro')\n",
    "    #loss = log_loss(y_train, y_train_pred)\n",
    "  \n",
    "    \n",
    "    print(\"Confusion matrix\")\n",
    "    print(cm)\n",
    "    print(\"_\"*50)\n",
    "    print(\"REPORT: \")\n",
    "    print(class_report)\n",
    "    print(\"Accuracy score: {}%\".format(round(acc,2)*100))\n",
    "    print(\"F1 score: {}\".format(f1))\n",
    "    #print(\"Cross entropy loss: {}\".format(loss))\n",
    "\n",
    "    return acc, f1"
   ]
  },
  {
   "cell_type": "code",
   "execution_count": null,
   "metadata": {
    "id": "H2mUOlXjr_ry"
   },
   "outputs": [],
   "source": [
    "def test_multiple_models(names, filenames, X_train, y_train, suffix):\n",
    "  x_ticks = []\n",
    "  models_acc = []\n",
    "  models_f1 = []\n",
    "  #models_loss = []\n",
    "  for name, filename in zip(names, filenames):\n",
    "    print(\"##########\", name, \"########\")\n",
    "    acc, f1 = test_model(filename, X_train, y_train)\n",
    "    x_ticks.append(name)\n",
    "    models_acc.append(acc)\n",
    "    models_f1.append(f1)\n",
    "    #models_loss.append(loss)\n",
    "  #make_charts(x_ticks, models_acc, models_f1, models_loss, suffix)"
   ]
  },
  {
   "cell_type": "code",
   "execution_count": null,
   "metadata": {
    "colab": {
     "base_uri": "https://localhost:8080/",
     "height": 1000
    },
    "id": "YuBTBNBosFcu",
    "outputId": "d5dac809-51ca-4288-c7e4-8f8f265d0c30"
   },
   "outputs": [
    {
     "name": "stdout",
     "output_type": "stream",
     "text": [
      "Count Vectorizer\n",
      "########## Logistic Regression ########\n",
      "Confusion matrix\n",
      "[[ 30448   1423   3101   1514   8514]\n",
      " [  8340   3064   4728   2239   6845]\n",
      " [  5886   1358  14303   8240  18161]\n",
      " [  2926    559   5799  22792  55098]\n",
      " [  3808    419   3151  11807 192285]]\n",
      "__________________________________________________\n",
      "REPORT: \n",
      "              precision    recall  f1-score   support\n",
      "\n",
      "         1.0       0.59      0.68      0.63     45000\n",
      "         2.0       0.45      0.12      0.19     25216\n",
      "         3.0       0.46      0.30      0.36     47948\n",
      "         4.0       0.49      0.26      0.34     87174\n",
      "         5.0       0.68      0.91      0.78    211470\n",
      "\n",
      "    accuracy                           0.63    416808\n",
      "   macro avg       0.54      0.45      0.46    416808\n",
      "weighted avg       0.59      0.63      0.59    416808\n",
      "\n",
      "Accuracy score: 63.0%\n",
      "F1 score: 0.4613415838094978\n",
      "########## Decision Tree ########\n"
     ]
    },
    {
     "name": "stderr",
     "output_type": "stream",
     "text": [
      "/usr/local/lib/python3.6/dist-packages/sklearn/metrics/_classification.py:1272: UndefinedMetricWarning: Precision and F-score are ill-defined and being set to 0.0 in labels with no predicted samples. Use `zero_division` parameter to control this behavior.\n",
      "  _warn_prf(average, modifier, msg_start, len(result))\n"
     ]
    },
    {
     "name": "stdout",
     "output_type": "stream",
     "text": [
      "Confusion matrix\n",
      "[[     0      0      5      3  44992]\n",
      " [     0      0      1      1  25214]\n",
      " [     0      0     14      2  47932]\n",
      " [     0      0     10     22  87142]\n",
      " [     0      0      7      7 211456]]\n",
      "__________________________________________________\n",
      "REPORT: \n",
      "              precision    recall  f1-score   support\n",
      "\n",
      "         1.0       0.00      0.00      0.00     45000\n",
      "         2.0       0.00      0.00      0.00     25216\n",
      "         3.0       0.38      0.00      0.00     47948\n",
      "         4.0       0.63      0.00      0.00     87174\n",
      "         5.0       0.51      1.00      0.67    211470\n",
      "\n",
      "    accuracy                           0.51    416808\n",
      "   macro avg       0.30      0.20      0.13    416808\n",
      "weighted avg       0.43      0.51      0.34    416808\n",
      "\n",
      "Accuracy score: 51.0%\n",
      "F1 score: 0.13485879473245505\n"
     ]
    },
    {
     "data": {
      "text/plain": [
       "<Figure size 432x288 with 0 Axes>"
      ]
     },
     "metadata": {
      "tags": []
     },
     "output_type": "display_data"
    },
    {
     "data": {
      "image/png": "[encoded data removed]",
      "text/plain": [
       "<Figure size 432x288 with 2 Axes>"
      ]
     },
     "metadata": {
      "needs_background": "light",
      "tags": []
     },
     "output_type": "display_data"
    },
    {
     "data": {
      "text/plain": [
       "<Figure size 432x288 with 0 Axes>"
      ]
     },
     "metadata": {
      "tags": []
     },
     "output_type": "display_data"
    },
    {
     "data": {
      "image/png": "[encoded data removed]",
      "text/plain": [
       "<Figure size 432x288 with 2 Axes>"
      ]
     },
     "metadata": {
      "needs_background": "light",
      "tags": []
     },
     "output_type": "display_data"
    }
   ],
   "source": [
    "print(\"Count Vectorizer\")\n",
    "names = [\"Logistic Regression\", \"Decision Tree\"]\n",
    "filnames = [\"best_models/logistic_regression_CV.sav\", \"best_models/decision_tree_cv.sav\"]\n",
    "test_multiple_models(names,filnames , trainCV, trainDf.score, 'CV')"
   ]
  },
  {
   "cell_type": "code",
   "execution_count": null,
   "metadata": {
    "colab": {
     "base_uri": "https://localhost:8080/"
    },
    "id": "NEzcSCB3MuWY",
    "outputId": "abd2de74-d5ba-4ca9-e351-c0b0449991d3"
   },
   "outputs": [
    {
     "name": "stderr",
     "output_type": "stream",
     "text": [
      "/usr/local/lib/python3.6/dist-packages/sklearn/linear_model/_logistic.py:940: ConvergenceWarning: lbfgs failed to converge (status=1):\n",
      "STOP: TOTAL NO. of ITERATIONS REACHED LIMIT.\n",
      "\n",
      "Increase the number of iterations (max_iter) or scale the data as shown in:\n",
      "    https://scikit-learn.org/stable/modules/preprocessing.html\n",
      "Please also refer to the documentation for alternative solver options:\n",
      "    https://scikit-learn.org/stable/modules/linear_model.html#logistic-regression\n",
      "  extra_warning_msg=_LOGISTIC_SOLVER_CONVERGENCE_MSG)\n"
     ]
    },
    {
     "data": {
      "text/plain": [
       "['best_models/logistic_regression_tf.sav']"
      ]
     },
     "execution_count": 63,
     "metadata": {
      "tags": []
     },
     "output_type": "execute_result"
    }
   ],
   "source": [
    "lr = LogisticRegression(C=best_models_tf['Logistic Regression'].best_params_['C'], penalty=best_models_tf['Logistic Regression'].best_params_['penalty'])\n",
    "lr_fited=lr.fit(trainTF, trainDf.score)\n",
    "joblib.dump(lr_fited, 'best_models/logistic_regression_tf.sav')"
   ]
  },
  {
   "cell_type": "code",
   "execution_count": null,
   "metadata": {
    "colab": {
     "base_uri": "https://localhost:8080/"
    },
    "id": "VJ49szesMucU",
    "outputId": "d720d71e-ded7-4bfc-f8b3-b7a5d755528f"
   },
   "outputs": [
    {
     "data": {
      "text/plain": [
       "['best_models/decision_tree_tf.sav']"
      ]
     },
     "execution_count": 64,
     "metadata": {
      "tags": []
     },
     "output_type": "execute_result"
    }
   ],
   "source": [
    "dtree = DecisionTreeClassifier(criterion=best_models_tf['Decision Tree'].best_params_['criterion'], splitter=best_models_tf['Decision Tree'].best_params_['splitter'], max_depth = best_models_tf['Decision Tree'].best_params_['max_depth'], max_features=best_models_tf['Decision Tree'].best_params_['max_features']) \n",
    "dtree_fitted=dtree.fit(trainTF, trainDf.score)\n",
    "joblib.dump(dtree_fitted, 'best_models/decision_tree_tf.sav')"
   ]
  },
  {
   "cell_type": "code",
   "execution_count": null,
   "metadata": {
    "colab": {
     "base_uri": "https://localhost:8080/",
     "height": 1000
    },
    "id": "lWXjwMb-sSgD",
    "outputId": "4fdaeba1-3d05-4850-dea6-2fb7d0425c0b"
   },
   "outputs": [
    {
     "name": "stdout",
     "output_type": "stream",
     "text": [
      "Term Frequency-Inverse Document Frequency\n",
      "########## Logistic Regression ########\n",
      "Confusion matrix\n",
      "[[ 31411   1160   2769   1711   7949]\n",
      " [  7548   4026   4387   2398   6857]\n",
      " [  5204   1145  16296   7569  17734]\n",
      " [  2645    541   4686  27678  51624]\n",
      " [  3283    312   2528   9481 195866]]\n",
      "__________________________________________________\n",
      "REPORT: \n",
      "              precision    recall  f1-score   support\n",
      "\n",
      "         1.0       0.63      0.70      0.66     45000\n",
      "         2.0       0.56      0.16      0.25     25216\n",
      "         3.0       0.53      0.34      0.41     47948\n",
      "         4.0       0.57      0.32      0.41     87174\n",
      "         5.0       0.70      0.93      0.80    211470\n",
      "\n",
      "    accuracy                           0.66    416808\n",
      "   macro avg       0.60      0.49      0.51    416808\n",
      "weighted avg       0.64      0.66      0.62    416808\n",
      "\n",
      "Accuracy score: 66.0%\n",
      "F1 score: 0.5055524513268477\n",
      "########## Decision Tree ########\n",
      "Confusion matrix\n",
      "[[   802      0      2      3  44193]\n",
      " [   128      2     11      0  25075]\n",
      " [   138      0     34      1  47775]\n",
      " [   107      0     11     24  87032]\n",
      " [   213      0      3      2 211252]]\n",
      "__________________________________________________\n",
      "REPORT: \n",
      "              precision    recall  f1-score   support\n",
      "\n",
      "         1.0       0.58      0.02      0.03     45000\n",
      "         2.0       1.00      0.00      0.00     25216\n",
      "         3.0       0.56      0.00      0.00     47948\n",
      "         4.0       0.80      0.00      0.00     87174\n",
      "         5.0       0.51      1.00      0.67    211470\n",
      "\n",
      "    accuracy                           0.51    416808\n",
      "   macro avg       0.69      0.20      0.14    416808\n",
      "weighted avg       0.61      0.51      0.35    416808\n",
      "\n",
      "Accuracy score: 51.0%\n",
      "F1 score: 0.14215433565366756\n"
     ]
    },
    {
     "data": {
      "text/plain": [
       "<Figure size 432x288 with 0 Axes>"
      ]
     },
     "metadata": {
      "tags": []
     },
     "output_type": "display_data"
    },
    {
     "data": {
      "image/png": "[encoded data removed]",
      "text/plain": [
       "<Figure size 432x288 with 2 Axes>"
      ]
     },
     "metadata": {
      "needs_background": "light",
      "tags": []
     },
     "output_type": "display_data"
    },
    {
     "data": {
      "text/plain": [
       "<Figure size 432x288 with 0 Axes>"
      ]
     },
     "metadata": {
      "tags": []
     },
     "output_type": "display_data"
    },
    {
     "data": {
      "image/png": "[encoded data removed]",
      "text/plain": [
       "<Figure size 432x288 with 2 Axes>"
      ]
     },
     "metadata": {
      "needs_background": "light",
      "tags": []
     },
     "output_type": "display_data"
    }
   ],
   "source": [
    "print(\"Term Frequency-Inverse Document Frequency\")\n",
    "names = [\"Logistic Regression\", \"Decision Tree\"]\n",
    "filnames = [\"best_models/logistic_regression_tf.sav\", \"best_models/decision_tree_tf.sav\"]\n",
    "test_multiple_models(names,filnames , trainTF, trainDf.score, 'TF')"
   ]
  },
  {
   "cell_type": "code",
   "execution_count": null,
   "metadata": {
    "id": "zXX79nW5WEZW"
   },
   "outputs": [],
   "source": [
    "testDf = convert_and_prepare_data(test)\n",
    "testTF = tfVectorizer.transform(testDf['new_text'])"
   ]
  },
  {
   "cell_type": "code",
   "execution_count": null,
   "metadata": {
    "colab": {
     "base_uri": "https://localhost:8080/"
    },
    "id": "hrAS0yOYX8Jc",
    "outputId": "c16fe8fa-a9a3-42ab-ce34-6e2f69e38e78"
   },
   "outputs": [
    {
     "data": {
      "text/plain": [
       "(138937, 414210)"
      ]
     },
     "execution_count": 68,
     "metadata": {
      "tags": []
     },
     "output_type": "execute_result"
    }
   ],
   "source": [
    "testTF.shape"
   ]
  },
  {
   "cell_type": "code",
   "execution_count": null,
   "metadata": {
    "colab": {
     "base_uri": "https://localhost:8080/"
    },
    "id": "8SujZw-VhWtm",
    "outputId": "34876cf2-2af4-4215-ff4e-9f4b4ae0470f"
   },
   "outputs": [
    {
     "name": "stdout",
     "output_type": "stream",
     "text": [
      "Mounted at /content/drive\n"
     ]
    }
   ],
   "source": [
    " from google.colab import drive\n",
    "drive.mount('/content/drive')"
   ]
  }
 ],
 "metadata": {
  "colab": {
   "name": "ReviewsCreation.ipynb",
   "provenance": []
  },
  "kernelspec": {
   "display_name": "Python 3",
   "language": "python",
   "name": "python3"
  },
  "language_info": {
   "codemirror_mode": {
    "name": "ipython",
    "version": 3
   },
   "file_extension": ".py",
   "mimetype": "text/x-python",
   "name": "python",
   "nbconvert_exporter": "python",
   "pygments_lexer": "ipython3",
   "version": "3.7.4"
  }
 },
 "nbformat": 4,
 "nbformat_minor": 1
}
